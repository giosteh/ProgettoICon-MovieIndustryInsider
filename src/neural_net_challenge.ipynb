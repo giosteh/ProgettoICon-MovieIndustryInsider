{
 "cells": [
  {
   "cell_type": "code",
   "execution_count": 1,
   "metadata": {},
   "outputs": [],
   "source": [
    "from feature_selection_utils import *\n",
    "from supervised_utils import *\n",
    "from neural_net_utils import *"
   ]
  },
  {
   "cell_type": "markdown",
   "metadata": {},
   "source": [
    "### Feature selection per il task di regressione"
   ]
  },
  {
   "cell_type": "code",
   "execution_count": 2,
   "metadata": {},
   "outputs": [],
   "source": [
    "df = pd.read_csv(\"../data/movies_features_reg_last30.csv\")\n",
    "cols = {\n",
    "    \"target\": \"score\",\n",
    "    \"drop\": [\"id\", \"title\"],\n",
    "    \"dummies\": [\"rating_cat\", \"genre_cat\"],\n",
    "    \"labels\": [],\n",
    "    \"standardize\": [\"runtime\", \"director_age\", \"star_age\"],\n",
    "    \"minmax\": [\"popularity\", \"budget\", \"director_experience\", \"star_experience\"]\n",
    "}\n",
    "# carico il modello migliore per la regressione (con MSE 0.43)\n",
    "best_model = joblib.load(\"models/Random_Forest_Reg-v2.joblib\")"
   ]
  },
  {
   "cell_type": "code",
   "execution_count": null,
   "metadata": {},
   "outputs": [],
   "source": [
    "# Visualizzo la mutual information delle features (Top 15)\n",
    "plot_mutual_information(df, cols, task=\"regression\").head(15)"
   ]
  },
  {
   "cell_type": "code",
   "execution_count": null,
   "metadata": {},
   "outputs": [],
   "source": [
    "# Visualizzo l'importanza delle features (Top 15)\n",
    "plot_feature_importances(df, cols, best_model, task=\"regression\").head(15)"
   ]
  },
  {
   "cell_type": "code",
   "execution_count": null,
   "metadata": {},
   "outputs": [],
   "source": [
    "# Eseguo la manual forward selection per ottenere una top 15\n",
    "manual_forward_selection(df, cols, best_model, k_features=15, task=\"regression\")"
   ]
  },
  {
   "cell_type": "markdown",
   "metadata": {},
   "source": [
    "#### Sfida con la rete neurale feed-forward (su un sottoinsieme di features)"
   ]
  },
  {
   "cell_type": "code",
   "execution_count": null,
   "metadata": {},
   "outputs": [],
   "source": [
    "best_features = [\"popularity\",\n",
    "                 \"runtime\",\n",
    "                 \"budget\",\n",
    "                 \"age\",\n",
    "                 \"budget_efficiency\",\n",
    "                 \"director_age\",\n",
    "                 \"star_age\",\n",
    "                 \"genre_cat_Animation\",\n",
    "                 \"genre_cat_Action\",\n",
    "                 \"genre_cat_Horror\",\n",
    "                 \"rating_cat_PG-13\",\n",
    "                 \"director_experience\",\n",
    "                 \"star_experience\",\n",
    "                 \"director_is_panned\",\n",
    "                 \"star_is_panned\"]\n",
    "\n",
    "# training della rete\n",
    "trainer = Trainer(df, cols, best_features, task=\"regression\")\n",
    "trainer.fit()"
   ]
  },
  {
   "cell_type": "markdown",
   "metadata": {},
   "source": [
    "### Feature selection per il task di classificazione"
   ]
  },
  {
   "cell_type": "code",
   "execution_count": 10,
   "metadata": {},
   "outputs": [],
   "source": [
    "df = pd.read_csv(\"../data/movies_features_cls_last30.csv\")\n",
    "cols = {\n",
    "    \"target\": \"budget_efficiency_cat\",\n",
    "    \"drop\": [\"id\", \"title\", \"popularity\"],\n",
    "    \"dummies\": [\"rating_cat\", \"genre_cat\"],\n",
    "    \"labels\": [],\n",
    "    \"standardize\": [\"runtime\", \"director_age\", \"star_age\"],\n",
    "    \"minmax\": [\"budget\", \"director_experience\", \"star_experience\"]\n",
    "}\n",
    "# carico il modello migliore per la classificazione (con accuracy 53%)\n",
    "best_model = joblib.load(\"models/Random_Forest_Cls-v2(resampled).joblib\")"
   ]
  },
  {
   "cell_type": "code",
   "execution_count": null,
   "metadata": {},
   "outputs": [],
   "source": [
    "# Visualizzo la mutual information delle features (Top 15)\n",
    "plot_mutual_information(df, cols, task=\"classification\").head(15)"
   ]
  },
  {
   "cell_type": "code",
   "execution_count": null,
   "metadata": {},
   "outputs": [],
   "source": [
    "# Visualizzo l'importanza delle features (Top 15)\n",
    "plot_feature_importances(df, cols, best_model, task=\"classification\").head(15)"
   ]
  },
  {
   "cell_type": "code",
   "execution_count": null,
   "metadata": {},
   "outputs": [],
   "source": [
    "# Eseguo la manual forward selection per ottenere una top 15\n",
    "manual_forward_selection(df, cols, best_model, k_features=15, task=\"classification\")"
   ]
  },
  {
   "cell_type": "markdown",
   "metadata": {},
   "source": [
    "#### Sfida con la rete neurale feed-forward (su un sottoinsieme di features)"
   ]
  },
  {
   "cell_type": "code",
   "execution_count": null,
   "metadata": {},
   "outputs": [],
   "source": [
    "best_features = [\"score\",\n",
    "                 \"runtime\",\n",
    "                 \"budget\",\n",
    "                 \"age\",\n",
    "                 \"director_age\",\n",
    "                 \"star_age\",\n",
    "                 \"director_efficiency\",\n",
    "                 \"star_efficiency\",\n",
    "                 \"director_experience\",\n",
    "                 \"star_experience\",\n",
    "                 \"genre_cat_Comedy\",\n",
    "                 \"genre_cat_Drama\",\n",
    "                 \"genre_cat_Horror\",\n",
    "                 \"rating_cat_PG-13\",\n",
    "                 \"rating_cat_R\"]\n",
    "\n",
    "# training della rete\n",
    "trainer = Trainer(df, cols, best_features, task=\"classification\", resample=False)\n",
    "trainer.fit()"
   ]
  }
 ],
 "metadata": {
  "kernelspec": {
   "display_name": "Python 3",
   "language": "python",
   "name": "python3"
  },
  "language_info": {
   "codemirror_mode": {
    "name": "ipython",
    "version": 3
   },
   "file_extension": ".py",
   "mimetype": "text/x-python",
   "name": "python",
   "nbconvert_exporter": "python",
   "pygments_lexer": "ipython3",
   "version": "3.12.7"
  }
 },
 "nbformat": 4,
 "nbformat_minor": 2
}
